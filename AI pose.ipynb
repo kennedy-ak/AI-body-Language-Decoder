{
 "cells": [
  {
   "cell_type": "markdown",
   "id": "b6894864",
   "metadata": {},
   "source": [
    "# 0. Install and Import"
   ]
  },
  {
   "cell_type": "code",
   "execution_count": 8,
   "id": "a7ce435b",
   "metadata": {},
   "outputs": [],
   "source": [
    "import cv2\n",
    "import mediapipe as mp\n",
    "import numpy as np\n",
    "import pandas as pd\n",
    "import sklearn\n",
    "mp_drawing = mp.solutions.drawing_utils # gives as all the drawing utils\n",
    "mp_holistic = mp.solutions.holistic"
   ]
  },
  {
   "cell_type": "code",
   "execution_count": 11,
   "id": "bf29f409",
   "metadata": {},
   "outputs": [
    {
     "name": "stderr",
     "output_type": "stream",
     "text": [
      "[ WARN:0@6134.966] global cap_v4l.cpp:982 open VIDEOIO(V4L2:/dev/video0): can't open camera by index\n",
      "[ERROR:0@6134.967] global obsensor_uvc_stream_channel.cpp:156 getStreamChannelGroup Camera index out of range\n"
     ]
    }
   ],
   "source": [
    "cap = cv2.VideoCapture(0)\n",
    "with mp_holistic.Holistic(min_detection_confidence=0.5, min_tracking_confidence=0.5) as holistic:\n",
    "    while cap.isOpened():\n",
    "        ret, frame = cap.read()\n",
    "        #recolor feed\n",
    "        image = cv2.cvtColor(frame,cv2.COLOR_BGR2RGB)\n",
    "        image.flags.writeable = False\n",
    "        \n",
    "        \n",
    "        #make detections\n",
    "        results = holistic.process(image)\n",
    "        \n",
    "        # recolor image back to bgr for rendering\n",
    "        image = cv2.cvtColor(image, cv2.COLOR_RGB2BGR)\n",
    "        image.flags.writeable = False\n",
    "        \n",
    "        #1 draw face landmarks\n",
    "        mp_drawing.draw_landmarks(image, results.face_landmarks,mp_holistic.FACE_CONNECTIONS,\n",
    "                                 mp_drawing.DrawingSpec(color=(80,110,10),thickness=1,circle_radius=1),\n",
    "                                 mp_drawing.DrawingSpec(color=(80,254,121),thickness=1,circle_radius=1)\n",
    "                                 )\n",
    "        \n",
    "        # 2 right hand\n",
    "        mp_drawing.draw_landmarks(image,results.right_hand_landmarks,mp_holistic.HAND_CONNECTIONS,\n",
    "                                 mp_drawing.DrawingSpec(color=(80,22,10),thickness=1,circle_radius=4),\n",
    "                                 mp_drawing.DrawingSpec(color=(80,44,121),thickness=1,circle_radius=2)                                  \n",
    "                                 )\n",
    "        \n",
    "        # 3 left hand\n",
    "        mp_drawing.draw_landmarks(image,results.left_hand_landmarks,mp_holistic.HAND_CONNECTIONS,\n",
    "                                 mp_drawing.DrawingSpec(color=(121,22,76),thickness=2,circle_radius=4),\n",
    "                                 mp_drawing.DrawingSpec(color=(121,44,250),thickness=2,circle_radius=2)                                  \n",
    "                                 )\n",
    "        # 4 pose detections\n",
    "        mp_drawing.draw_landmarks(image,results.pose_landmarks,mp_holistic.POSE_CONNECTIONS,\n",
    "                                 mp_drawing.DrawingSpec(color=(245,117,66),thickness=2,circle_radius=4),\n",
    "                                 mp_drawing.DrawingSpec(color=(245,66,230),thickness=2,circle_radius=2)                                  \n",
    "                                 )\n",
    "        \n",
    "        \n",
    "        cv2.imshow(\"feed\",image)\n",
    "        if cv2.waitKey(10) & 0xFF == ord('q'):\n",
    "            break\n",
    "            \n",
    "    cap.release()\n",
    "    cv2.destroyAllWindows()"
   ]
  },
  {
   "cell_type": "code",
   "execution_count": null,
   "id": "69a19160",
   "metadata": {},
   "outputs": [],
   "source": []
  }
 ],
 "metadata": {
  "kernelspec": {
   "display_name": "Python 3 (ipykernel)",
   "language": "python",
   "name": "python3"
  },
  "language_info": {
   "codemirror_mode": {
    "name": "ipython",
    "version": 3
   },
   "file_extension": ".py",
   "mimetype": "text/x-python",
   "name": "python",
   "nbconvert_exporter": "python",
   "pygments_lexer": "ipython3",
   "version": "3.10.11"
  }
 },
 "nbformat": 4,
 "nbformat_minor": 5
}
